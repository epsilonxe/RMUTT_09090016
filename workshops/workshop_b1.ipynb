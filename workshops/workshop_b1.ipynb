{
 "cells": [
  {
   "cell_type": "markdown",
   "id": "a21942a9",
   "metadata": {},
   "source": [
    "# WORKSHOP B1\n",
    "# FUNCTIONS"
   ]
  },
  {
   "cell_type": "markdown",
   "id": "d6d01039",
   "metadata": {},
   "source": [
    "------------\n",
    "\n",
    "## จงเขียนฟังก์ชันต่อไปนี้\n",
    "\n",
    "### ชื่อฟังก์ชัน: \n",
    "`f1`\n",
    "\n",
    "### Parameter: \n",
    "รับข้อมูล `a` เป็นสตริง และ รับ `b` เป็นจํานวนเต็ม\n",
    "\n",
    "### Process: \n",
    "พิมพ์ `a` ออกทางหน้าจอจํานวน `b` บรรทัด\n",
    "\n",
    "### Return: \n",
    "ไม่ต้องคืนค่า\n"
   ]
  },
  {
   "cell_type": "code",
   "execution_count": 26,
   "id": "43492dc7",
   "metadata": {},
   "outputs": [],
   "source": [
    "# Write your function here\n",
    "def f1():\n",
    "    pass\n",
    "\n",
    "\n"
   ]
  },
  {
   "cell_type": "code",
   "execution_count": 30,
   "id": "968863b8",
   "metadata": {},
   "outputs": [],
   "source": [
    "# Test your function here\n",
    "\n",
    "\n",
    "\n"
   ]
  },
  {
   "cell_type": "markdown",
   "id": "31999539",
   "metadata": {},
   "source": [
    "------------\n",
    "\n",
    "## จงเขียนฟังก์ชันต่อไปนี้\n",
    "\n",
    "### ชื่อฟังก์ชัน: \n",
    "`f2`\n",
    "\n",
    "### Parameter: \n",
    "รับข้อมูล `a` เป็นสตริง และ รับ `b` เป็นจํานวนเต็ม\n",
    "\n",
    "### Process: \n",
    "สร้างลิสต์ (List) ที่เก็บสตริง `a` จํานวน `b` ตัว\n",
    "\n",
    "### Return: \n",
    "ลิสต์ที่สร้างขึ้น\n"
   ]
  },
  {
   "cell_type": "code",
   "execution_count": 6,
   "id": "8e725140",
   "metadata": {},
   "outputs": [],
   "source": [
    "# Write your function here\n",
    "def f2():\n",
    "    pass\n",
    "\n",
    "\n"
   ]
  },
  {
   "cell_type": "code",
   "execution_count": 8,
   "id": "df892e09",
   "metadata": {},
   "outputs": [],
   "source": [
    "# Test your function here\n",
    "\n",
    "\n",
    "\n"
   ]
  },
  {
   "cell_type": "markdown",
   "id": "ccac1ce9",
   "metadata": {},
   "source": [
    "------------\n",
    "\n",
    "## จงเขียนฟังก์ชันต่อไปนี้\n",
    "\n",
    "### ชื่อฟังก์ชัน: \n",
    "`g`\n",
    "\n",
    "### Parameter: \n",
    "รับจํานวนจริงสี่จํานวน `m`, `c`, `n` และ `d`\n",
    "\n",
    "### Process: \n",
    "หาจุดตัดของเส้นตรง $y = mx+c$ และ $y = nx +d$\n",
    "\n",
    "### Return: \n",
    "ลิสต์ของจำนวนจริงสองจำนวน `[x, y]` แทนจุดตัดของเส้นตรงทั้งสอง\n",
    "แต่ถ้าเส้นตรงั้งสองนั้นไม่ตัดกันให้ส่งกลับค่า `[None, None]`\n",
    "\n"
   ]
  },
  {
   "cell_type": "code",
   "execution_count": 11,
   "id": "f0331cc3",
   "metadata": {},
   "outputs": [],
   "source": [
    "# Write your function here\n",
    "def g():\n",
    "    pass\n",
    "\n",
    "\n"
   ]
  },
  {
   "cell_type": "code",
   "execution_count": 10,
   "id": "4f15431e",
   "metadata": {},
   "outputs": [],
   "source": [
    "# Test your function here\n",
    "\n",
    "\n",
    "\n"
   ]
  },
  {
   "cell_type": "markdown",
   "id": "05728bff",
   "metadata": {},
   "source": [
    "------------\n",
    "\n",
    "## จงเขียนฟังก์ชันต่อไปนี้\n",
    "\n",
    "### ชื่อฟังก์ชัน: \n",
    "`filter_even`\n",
    "\n",
    "### Parameter: \n",
    "`x` ซึ่งเป็นลิสต์ของจำนวนเต็ม\n",
    "\n",
    "### Process: \n",
    "ค้นหาจำนวนเต็มคู่ในลิสต์ `x`\n",
    "\n",
    "### Return: \n",
    "`y` ซึ่งเป็นลิสต์ของจำนวนเต็มคู่ในลิสต์ `x` โดยลำดับในลิสต์จะต้องคงเรียงเช่นเดิม\n",
    "\n",
    "\n",
    "\n"
   ]
  },
  {
   "cell_type": "code",
   "execution_count": 12,
   "id": "d0df1822",
   "metadata": {},
   "outputs": [],
   "source": [
    "# Write your function here\n",
    "\n",
    "\n",
    "\n"
   ]
  },
  {
   "cell_type": "code",
   "execution_count": 13,
   "id": "8e729d6e",
   "metadata": {},
   "outputs": [],
   "source": [
    "# Test your function here\n",
    "\n",
    "\n",
    "\n"
   ]
  },
  {
   "cell_type": "markdown",
   "id": "13493d3e",
   "metadata": {},
   "source": [
    "------------\n",
    "\n",
    "## จงเขียนฟังก์ชันต่อไปนี้\n",
    "\n",
    "### ชื่อฟังก์ชัน: \n",
    "`factorial`\n",
    "\n",
    "### Parameter: \n",
    "จำนวนเต็ม `n >= 0`\n",
    "\n",
    "### Process: \n",
    "คำนวณค่า $$n! = n\\cdot(n-1)\\cdot(n-2)\\cdot\\cdot 3 \\cdot 2 \\cdot 1$$\n",
    "\n",
    "### Return: \n",
    "ค่าที่คำนวณได้"
   ]
  },
  {
   "cell_type": "code",
   "execution_count": 12,
   "id": "9a371883",
   "metadata": {},
   "outputs": [],
   "source": [
    "# Write your function here\n",
    "\n",
    "\n",
    "\n"
   ]
  },
  {
   "cell_type": "code",
   "execution_count": 14,
   "id": "fe9d75c3",
   "metadata": {},
   "outputs": [],
   "source": [
    "# Test your function here\n",
    "\n",
    "\n",
    "\n"
   ]
  }
 ],
 "metadata": {
  "kernelspec": {
   "display_name": "Python 3 (ipykernel)",
   "language": "python",
   "name": "python3"
  },
  "language_info": {
   "codemirror_mode": {
    "name": "ipython",
    "version": 3
   },
   "file_extension": ".py",
   "mimetype": "text/x-python",
   "name": "python",
   "nbconvert_exporter": "python",
   "pygments_lexer": "ipython3",
   "version": "3.9.9"
  }
 },
 "nbformat": 4,
 "nbformat_minor": 5
}
