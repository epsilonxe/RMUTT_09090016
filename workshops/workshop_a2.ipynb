{
 "cells": [
  {
   "cell_type": "markdown",
   "id": "a21942a9",
   "metadata": {},
   "source": [
    "# WORKSHOP A2\n",
    "# HANDLING OF INPUTS"
   ]
  },
  {
   "cell_type": "markdown",
   "id": "d6d01039",
   "metadata": {},
   "source": [
    "------------\n",
    "\n",
    "### Input:\n",
    "รับจำนวนเต็ม 3 จำนวนจากแป้นพิมพ์  เก็บในตัวแปร `h`, `m` และ `s` ซึ่งแทนจำนวน ชั่วโมง นาที และ วินาที\n",
    "\n",
    "### Process: \n",
    "คำนวณจำนวนวินาทีรวมที่คิดจาก `h`, `m` และ `s` \n",
    "\n",
    "### Output: \n",
    "จำนวนวินาทีรวมทั้งหมดที่คำนวณได้\n",
    "\n",
    "### Examples:\n",
    "\n",
    "|  Input  |  Output  |\n",
    "|---------|----------|\n",
    "| 1 <br> 10 <br> 5 | 4215 |\n",
    "| 12 <br> 54 <br> 29 | 46469 |\n"
   ]
  },
  {
   "cell_type": "code",
   "execution_count": null,
   "id": "43492dc7",
   "metadata": {},
   "outputs": [],
   "source": [
    "\n",
    "\n",
    "\n",
    "\n"
   ]
  },
  {
   "cell_type": "markdown",
   "id": "3112ca02",
   "metadata": {},
   "source": [
    "------------------------\n",
    "\n",
    "\n",
    "### Input: \n",
    "รับจำนวนจริง 1 จำนวนจากแป้นพิมพ์ เก็บใน `x` \n",
    "\n",
    "### Process: \n",
    "คำนวณ $$ y = 2 - x + \\dfrac{x^2}{5} - \\dfrac{2x^3}{x-1} $$\n",
    "\n",
    "### Output: \n",
    "ค่า `y` ที่คำนวณได้\n",
    "\n",
    "### Examples:\n",
    "\n",
    "|  Input  |  Output  |\n",
    "|---------|----------|\n",
    "| 0 | 2.0 |\n",
    "| 3.25 | -29.65138888888889 |\n",
    "| -0.12 | 2.119794285714286 |"
   ]
  },
  {
   "cell_type": "code",
   "execution_count": null,
   "id": "ddd15660",
   "metadata": {},
   "outputs": [],
   "source": [
    "\n",
    "\n",
    "\n",
    "\n"
   ]
  },
  {
   "cell_type": "markdown",
   "id": "2875dc52",
   "metadata": {},
   "source": [
    "----------------------\n",
    "\n",
    "\n",
    "### Input: \n",
    "รับจำนวนจริง 1 จำนวนจากแป้นพิมพ์ เก็บใน `a` \n",
    "\n",
    "### Process: \n",
    "ให้ x มีค่าเป็น 1 จากน้ันทำคำสั่ง \n",
    "```python\n",
    "x = (x + a/x) / 2\n",
    "```  \n",
    "จำนวน 4 ครั้ง\n",
    "\n",
    "### Output: \n",
    "ค่า `x` ที่ได้จากการทำงานข้างบนนี้\n",
    "\n",
    "### Examples:\n",
    "\n",
    "|  Input  |  Output  |\n",
    "|---------|----------|\n",
    "| -2.5 | 3.722135469279639 |\n",
    "| 0 | 0.0625 |\n",
    "| 3.15e3 | 1974.0596688108467 |"
   ]
  },
  {
   "cell_type": "code",
   "execution_count": null,
   "id": "28dc7118",
   "metadata": {},
   "outputs": [],
   "source": [
    "\n",
    "\n",
    "\n",
    "\n"
   ]
  },
  {
   "cell_type": "markdown",
   "id": "7af8b5fc",
   "metadata": {},
   "source": [
    "----------------------------------------------\n",
    "\n",
    "\n",
    "### Input:\n",
    "อ่านจำนวนจริง 5 จำนวนคั่นด้วยช่องว่า \n",
    "\n",
    "### Process:\n",
    "คำนวณค่าเฉลี่ยของจำนวนจริง 5 จำนวนนั้น\n",
    "\n",
    "### Output:\n",
    "ค่าเฉลี่ยที่คำนวณได้\n",
    "\n",
    "### Examples:\n",
    "\n",
    "|  Input  |  Output  |\n",
    "|---------|----------|\n",
    "| 1 <br> 2 <br> 3 <br> 4 <br> 5 | 3.0 |\n",
    "| 1.23 <br> 22.34 <br> 33.23 <br> 9.67 <br> 10.233 | 15.3406 |"
   ]
  },
  {
   "cell_type": "code",
   "execution_count": null,
   "id": "59128717",
   "metadata": {},
   "outputs": [],
   "source": [
    "\n",
    "\n",
    "\n",
    "\n",
    "\n"
   ]
  },
  {
   "cell_type": "markdown",
   "id": "e0acffa8",
   "metadata": {},
   "source": [
    "----------------------------\n",
    "\n",
    "\n",
    "### Input: \n",
    "รับข้อมูล 2 ชุด แต่ละชุดประกอบไปด้วยเลขจำนวนจริง 3 จำนวน \n",
    "โดยที่\n",
    "\n",
    "ข้อมูลชุดแรก ให้ทำการรับข้อมูลแล้วเก็บในตัวแปร \n",
    "`v1`, `v2`, `v3` แทนเวกเตอร์ $$ v = (v_1, v_2, v_3) \\in \\mathbb{R}^3 $$ \n",
    "\n",
    "ข้อมูลชุดที่สอง ให้ทำการรับข้อมูลแล้วเก็บในตัวแปร \n",
    "`u1`, `u2`, `u3` แทน เวกเตอร์ $$ u = (u_1, u_2, u_3) \\in \\mathbb{R}^3 $$\n",
    "\n",
    "### Process: \n",
    "คำนวณ dot product ของเวกเตอร์ $v$ กับ $u$ \n",
    "\n",
    "$$ v \\cdot u =  (v_1, v_2, v_3) \\cdot (u_1, u_2, u_3) = v_1u_1 + v_2u_2 + v_3u_3$$\n",
    "\n",
    "### Output: \n",
    "ค่า dot product ที่คำนวณได้\n",
    "\n",
    "\n",
    "### Examples:\n",
    "\n",
    "|  Input  |  Output  |\n",
    "|---------|----------|\n",
    "| 1 <br> 2 <br> 3 <br> 4 <br> 5 <br> 6 | 32.0 |\n",
    "| -1 <br> 0 <br> 3 <br> 3.25 <br> 11.99 <br> -1.093 | -6.529 |\n"
   ]
  },
  {
   "cell_type": "code",
   "execution_count": null,
   "id": "5d901c7c",
   "metadata": {},
   "outputs": [],
   "source": [
    "\n",
    "\n",
    "\n",
    "\n"
   ]
  },
  {
   "cell_type": "markdown",
   "id": "39785ec9",
   "metadata": {},
   "source": [
    "-------------------------------\n",
    "\n",
    "\n",
    "### Input: \n",
    "รับข้อมูล 2 ชุด แต่ละชุดประกอบไปด้วยเลขจำนวนจริง 2 จำนวน \n",
    "โดยที่\n",
    "\n",
    "ข้อมูลชุดแรก ให้ทำการรับข้อมูลแล้วเก็บในตัวแปร \n",
    "`x1` และ `y1` แทนพิกัดของจุดที่ 1 $$p_1 = (x_1, y_1) \\in \\mathbb{R}^2$$ \n",
    "\n",
    "ข้อมูลชุดที่สอง ให้ทำการรับข้อมูลแล้วเก็บในตัวแปร\n",
    "`x2` และ `y2` แทนพิกัดของจุดที่ 2  $$p_2 = (x_2, y_2) \\in \\mathbb{R}^2$$ \n",
    "\n",
    "\n",
    "### Process: \n",
    "คำนวณระยะห่างสั้นสุดระหว่างจุดทั้งสอง $$d(p_1,p_2) = \\sqrt{(x_1 - x_2)^2 + (y_1 - y_2)^2} $$\n",
    "\n",
    "### Output: \n",
    "ระยะห่างที่หาได้\n",
    "\n",
    "### Examples:\n",
    "\n",
    "|  Input  |  Output  |\n",
    "|---------|----------|\n",
    "| 0 <br> -5 <br> 0 <br> 5  | 10.0 |\n",
    "| 1 <br> 1 <br> 4 <br> 5  | 5.0 |"
   ]
  },
  {
   "cell_type": "code",
   "execution_count": null,
   "id": "6de29cac",
   "metadata": {},
   "outputs": [],
   "source": [
    "\n",
    "\n",
    "\n",
    "\n"
   ]
  },
  {
   "cell_type": "markdown",
   "id": "a57e4707",
   "metadata": {},
   "source": [
    "--------------------------\n",
    "\n",
    "\n",
    "### Input: \n",
    "รับข้อมูล 3 ตัว `a`, `b` กับ `c`\n",
    "\n",
    "- `a` และ `b` เป็นตัวอักษร (String) \n",
    "- `c` เป็นจำนวนเต็ม (Integer)\n",
    "\n",
    "### Output: \n",
    "ตัวอักษรใน `a` ต่อกับตัวอักษรใน `b` ต่อกับ ค่าของจำนวนเต็มใน `c` ต่อกับ ชุดของตัวอักษรใน `a` ต่อกับตัวอักษร ใน `b` ที่ซ้ำ ๆ กันเป็นจำนวน `c` ชุด\n",
    "\n",
    "\n",
    "### Examples:\n",
    "\n",
    "|  Input  |  Output  |\n",
    "|---------|----------|\n",
    "| v <br> o <br> 5 | vo5vovovovovo |\n",
    "| Hello <br> World <br> 2 | HelloWorld2HelloWorldHelloWorld |\n",
    "\n"
   ]
  },
  {
   "cell_type": "code",
   "execution_count": null,
   "id": "7dff9840",
   "metadata": {},
   "outputs": [],
   "source": [
    "\n",
    "\n",
    "\n"
   ]
  }
 ],
 "metadata": {
  "kernelspec": {
   "display_name": "Python 3 (ipykernel)",
   "language": "python",
   "name": "python3"
  },
  "language_info": {
   "codemirror_mode": {
    "name": "ipython",
    "version": 3
   },
   "file_extension": ".py",
   "mimetype": "text/x-python",
   "name": "python",
   "nbconvert_exporter": "python",
   "pygments_lexer": "ipython3",
   "version": "3.9.9"
  }
 },
 "nbformat": 4,
 "nbformat_minor": 5
}
